{
  "nbformat": 4,
  "nbformat_minor": 0,
  "metadata": {
    "colab": {
      "name": "MyFirstCollabNoteBook.ipynb",
      "provenance": [],
      "collapsed_sections": [],
      "authorship_tag": "ABX9TyO7xWV9vPYkKkeL8T63e3V+",
      "include_colab_link": true
    },
    "kernelspec": {
      "name": "python3",
      "display_name": "Python 3"
    }
  },
  "cells": [
    {
      "cell_type": "markdown",
      "metadata": {
        "id": "view-in-github",
        "colab_type": "text"
      },
      "source": [
        "<a href=\"https://colab.research.google.com/github/CHETHANA-U/coursera-test/blob/master/MyFirstCollabNoteBook.ipynb\" target=\"_parent\"><img src=\"https://colab.research.google.com/assets/colab-badge.svg\" alt=\"Open In Colab\"/></a>"
      ]
    },
    {
      "cell_type": "code",
      "metadata": {
        "id": "44VvzJWbgaAp",
        "colab_type": "code",
        "colab": {
          "base_uri": "https://localhost:8080/",
          "height": 34
        },
        "outputId": "12230099-26d6-4ae0-8fdd-d7298b897d2d"
      },
      "source": [
        "import time\n",
        "print(time.ctime())"
      ],
      "execution_count": 1,
      "outputs": [
        {
          "output_type": "stream",
          "text": [
            "Tue Sep  8 07:01:32 2020\n"
          ],
          "name": "stdout"
        }
      ]
    },
    {
      "cell_type": "code",
      "metadata": {
        "id": "22-6GXEXic6Q",
        "colab_type": "code",
        "colab": {
          "base_uri": "https://localhost:8080/",
          "height": 34
        },
        "outputId": "a01958d1-b26e-441c-ed06-a996146973bb"
      },
      "source": [
        "time.sleep(5)\n",
        "print(time.ctime())"
      ],
      "execution_count": 5,
      "outputs": [
        {
          "output_type": "stream",
          "text": [
            "Tue Sep  8 07:08:36 2020\n"
          ],
          "name": "stdout"
        }
      ]
    },
    {
      "cell_type": "markdown",
      "metadata": {
        "id": "zzeH-7zqjbUk",
        "colab_type": "text"
      },
      "source": [
        "THIS IS MY FIRST COLLAB EXPERIENCE"
      ]
    },
    {
      "cell_type": "markdown",
      "metadata": {
        "id": "TSUNPt4EjrmT",
        "colab_type": "text"
      },
      "source": [
        "### HELLO"
      ]
    },
    {
      "cell_type": "markdown",
      "metadata": {
        "id": "3LL4Js1_kAU8",
        "colab_type": "text"
      },
      "source": [
        "### **THIS IS MY FIRST COLLAB EXPERIENCE**"
      ]
    }
  ]
}